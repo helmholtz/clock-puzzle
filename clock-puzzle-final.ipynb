{
 "cells": [
  {
   "cell_type": "markdown",
   "metadata": {},
   "source": [
    "# Units\n",
    "We measure angles in radians, starting at the 12 o'clock position and increasing in the clockwise direction.\n",
    "\n",
    "We measure time in units of 12 hours, i.e. $t = 0.5$ corresponds to 6:00:00."
   ]
  },
  {
   "cell_type": "markdown",
   "metadata": {},
   "source": [
    "# Getting Started\n",
    "\n",
    "Let's write down functions for the angular position of each hand as a function of time:\n",
    "\n",
    "$$\\theta_h = 2\\pi \\cdot t$$\n",
    "$$\\theta_m = 2\\pi \\cdot 12 \\cdot t$$\n",
    "$$\\theta_s = 2\\pi \\cdot 720 \\cdot t$$"
   ]
  },
  {
   "cell_type": "markdown",
   "metadata": {},
   "source": [
    "The subscripts $h$, $m$, and $s$ refer to the hour, minute, and second hands, respectively. In our chosen units, these functions have frequencies $f$ of 1, 12, and 720. With these functions in hand, we can now write down expressions for the angle $\\theta_{ij}$ between any two hands:\n",
    "\n",
    "$$\\theta_{hm} = \\theta_m - \\theta_h = 2\\pi \\cdot 11 \\cdot t$$\n",
    "$$\\theta_{ms} = \\theta_s - \\theta_m = 2\\pi \\cdot 708 \\cdot t$$\n",
    "$$\\theta_{hs} = \\theta_s - \\theta_h = 2\\pi \\cdot 719 \\cdot t$$\n"
   ]
  },
  {
   "cell_type": "markdown",
   "metadata": {},
   "source": [
    "Note that we now have frequencies equal to 11, 708, and 719. We can now reformulate the problem as follows: \n",
    ">find all times $t$ for which any two of the above functions are equal to $\\frac{2k+1}{2} \\cdot \\pi$ for integer $k$"
   ]
  },
  {
   "cell_type": "markdown",
   "metadata": {},
   "source": [
    "# Solving for t\n",
    "\n",
    "Let's start by choosing $\\theta_{hm}$ and $\\theta_{ms}$ as our candidate pair. Then we want to find $t$ such that:\n",
    "\n",
    "$$\\theta_{hm} = 2\\pi \\cdot 11 \\cdot t = \\frac{2k_1+1}{2} \\cdot \\pi$$\n",
    "\n",
    "$$\\theta_{ms} = 2\\pi \\cdot 708 \\cdot t = \\frac{2k_2+1}{2} \\cdot \\pi$$"
   ]
  },
  {
   "cell_type": "markdown",
   "metadata": {},
   "source": [
    "Solving both equations for t and doing some rearranging, we get:\n",
    "\n",
    "$$\\frac{2k_1+1}{11} = \\frac{2k_2+1}{708}$$"
   ]
  },
  {
   "cell_type": "markdown",
   "metadata": {},
   "source": [
    "Or, alternately:\n",
    "\n",
    "$$\\frac{2k_1+1}{2k_2+1} = \\frac{11}{708}$$"
   ]
  },
  {
   "cell_type": "markdown",
   "metadata": {},
   "source": [
    "Aha! We have a contradiction! The fraction on the left side of the equation will always be composed of two odd numbers, whereas the fraction on the right will always have one odd and one even number. Thus, we have shown that there is no solution to the problem for the pair of angles $\\theta_{hm}$ and $\\theta_{ms}$. Using the same method on the other two pairs, we obtain:\n",
    "\n",
    "$$hm, hs: \\frac{2k_1+1}{2k_2+1} = \\frac{11}{719}$$\n",
    "\n",
    "$$ms, hs: \\frac{2k_1+1}{2k_2+1} = \\frac{708}{719}$$"
   ]
  },
  {
   "cell_type": "markdown",
   "metadata": {},
   "source": [
    "Thus, solutions will only exist for the $hm,hs$ pair. How do we find these solutions? Solving $2k_1 + 1 = 11, 33, 55 \\ldots$ gives $k_1 = 5, 16, 27, \\ldots = 11 \\cdot m + 5$. We then plug these into our formula for $\\theta_{hm}$ and solve for $t$:\n",
    "\n",
    "$$\\theta_{hm} = 2\\pi \\cdot 11 \\cdot t = \\frac{2k_1+1}{2} \\cdot \\pi$$\n",
    "\n",
    "$$2\\pi \\cdot 11 \\cdot t = \\frac{22m+11}{2} \\cdot \\pi$$\n",
    "\n",
    "$$t = \\frac{2m+1}{4}$$"
   ]
  },
  {
   "cell_type": "markdown",
   "metadata": {},
   "source": [
    "This gives $t = 0.25, 0.75, 1.25, 1.75, \\ldots$. Remember that we are measuring time in units of 12 hours, so these solutions correspond to 3:00:00 and 9:00:00 and these are the *only* two solutions. The end."
   ]
  },
  {
   "cell_type": "code",
   "execution_count": null,
   "metadata": {
    "collapsed": true
   },
   "outputs": [],
   "source": []
  }
 ],
 "metadata": {
  "kernelspec": {
   "display_name": "Python 2",
   "language": "python",
   "name": "python2"
  },
  "language_info": {
   "codemirror_mode": {
    "name": "ipython",
    "version": 2
   },
   "file_extension": ".py",
   "mimetype": "text/x-python",
   "name": "python",
   "nbconvert_exporter": "python",
   "pygments_lexer": "ipython2",
   "version": "2.7.2"
  }
 },
 "nbformat": 4,
 "nbformat_minor": 0
}
